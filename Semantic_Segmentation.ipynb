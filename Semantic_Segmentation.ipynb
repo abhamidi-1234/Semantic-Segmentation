{
  "nbformat": 4,
  "nbformat_minor": 0,
  "metadata": {
    "colab": {
      "provenance": [],
      "collapsed_sections": []
    },
    "kernelspec": {
      "name": "python3",
      "display_name": "Python 3"
    },
    "language_info": {
      "name": "python"
    }
  },
  "cells": [
    {
      "cell_type": "markdown",
      "source": [
        "#Setup"
      ],
      "metadata": {
        "id": "D7scjLd6xjLd"
      }
    },
    {
      "cell_type": "code",
      "execution_count": null,
      "metadata": {
        "id": "eLzeXolnxdFT"
      },
      "outputs": [],
      "source": [
        "#Import teh necessary libraries\n",
        "import os\n",
        "from PIL import Image\n",
        "import numpy as np\n",
        "import pandas as pd\n",
        "import matplotlib.pyplot as plt\n",
        "from sklearn.cluster import KMeans\n",
        "import torch\n",
        "import torch.nn as nn\n",
        "import torch.nn.functional as F\n",
        "import torch.optim as optim\n",
        "from torch.utils.data import Dataset, DataLoader\n",
        "from torchvision import transforms\n",
        "from tqdm.notebook import tqdm"
      ]
    },
    {
      "cell_type": "code",
      "source": [
        "#Mount Google Drive for the dataset\n",
        "from google.colab import drive\n",
        "drive.mount('/content/drive')"
      ],
      "metadata": {
        "id": "D4NfqyWdxskU"
      },
      "execution_count": null,
      "outputs": []
    },
    {
      "cell_type": "code",
      "source": [
        "#Check if GPU is available\n",
        "device = \"cuda:0\" if torch.cuda.is_available() else \"cpu\"\n",
        "device = torch.device(device)\n",
        "print(device)"
      ],
      "metadata": {
        "id": "aFXILFH5xuyX"
      },
      "execution_count": null,
      "outputs": []
    },
    {
      "cell_type": "code",
      "source": [
        "#Download the dataset\n",
        "!pip install opendatasets --quiet\n",
        "import opendatasets as od"
      ],
      "metadata": {
        "id": "uDiRnEF7xwyp"
      },
      "execution_count": null,
      "outputs": []
    },
    {
      "cell_type": "code",
      "source": [
        "od.download(\"https://www.kaggle.com/datasets/dansbecker/cityscapes-image-pairs\")"
      ],
      "metadata": {
        "id": "KmEyPb85x03s"
      },
      "execution_count": null,
      "outputs": []
    },
    {
      "cell_type": "code",
      "source": [
        "# !zip -r cityscapes-image-pairs.zip \"/content/cityscapes-image-pairs\""
      ],
      "metadata": {
        "id": "8l1RC8d5x4s5"
      },
      "execution_count": null,
      "outputs": []
    },
    {
      "cell_type": "code",
      "source": [
        "# %cp 'cityscapes-image-pairs.zip' '/content/drive/MyDrive/PRT'"
      ],
      "metadata": {
        "id": "yAB-CnL4x6U_"
      },
      "execution_count": null,
      "outputs": []
    },
    {
      "cell_type": "code",
      "source": [
        "%cp '/content/drive/MyDrive/PRT/cityscapes-image-pairs.zip' ."
      ],
      "metadata": {
        "id": "deL6ntE0x8Fh"
      },
      "execution_count": null,
      "outputs": []
    }
  ]
}